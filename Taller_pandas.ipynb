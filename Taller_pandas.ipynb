{
  "cells": [
    {
      "cell_type": "markdown",
      "metadata": {
        "id": "xGiqRO9PpY2H"
      },
      "source": [
        "<h1 align=\"center\">\n",
        "Taller 07 - Operaciones con Listas\n",
        "</h1>"
      ]
    },
    {
      "cell_type": "code",
      "execution_count": null,
      "metadata": {
        "colab": {
          "base_uri": "https://localhost:8080/"
        },
        "id": "sAj0u0Uto2i5",
        "outputId": "acdc54d7-8170-4033-bc21-5cb48da90923"
      },
      "outputs": [],
      "source": [
        "# Preparación de los datos para los ejercicios\n",
        "import pandas as pd\n",
        "\n",
        "url = 'https://raw.githubusercontent.com/BrayanTorres2/POO_2022_C1/main/municipios.csv'\n",
        "df = pd.read_csv(url)\n",
        "municipios = []\n",
        "\n",
        "for (_, m) in df.iterrows():\n",
        "    mun = (m[0], m[1], m[2], m[3], m[4], False if m[5] == 0 else True)\n",
        "    municipios.append(mun)\n",
        "print('Cantidad de municipios', len(municipios))"
      ]
    },
    {
      "cell_type": "markdown",
      "metadata": {
        "id": "vOOIp3R-wJK2"
      },
      "source": [
        "## La información de los municipios\n",
        "\n",
        "Tenemos la información de todos los municipios de colombia en una lista de tuplas con la siguiente conformación:\n",
        "\n",
        "* El primer elemento es el código del municipio, un número\n",
        "* El segundo elemento es el nombre del municipio\n",
        "* El tercer elemento es la población urbana del municipio\n",
        "* El cuarto elemento es la población rural del municipio\n",
        "* El quinto elemento es el nombre del departamento donde esta el municipio\n",
        "* El sexto elemento es **True** si el municipio es la capital del departamento y **False** si no se trata de la capital del departamento."
      ]
    },
    {
      "cell_type": "markdown",
      "metadata": {
        "id": "MVX5wO8sw-Gh"
      },
      "source": [
        "---\n",
        "\n",
        "## Ejercicio 01\n",
        "\n",
        "Escriba una función que reciba la lista de municipios como dato de entrada, así como el nombre de un departamento y que retorne cuántos municipios de la lista pertenecen a ese departamento."
      ]
    },
    {
      "cell_type": "code",
      "execution_count": 27,
      "metadata": {
        "colab": {
          "base_uri": "https://localhost:8080/"
        },
        "id": "PEmVsxmzuM38",
        "outputId": "34fae8c3-b554-4b3c-9390-e9ab12cae50a"
      },
      "outputs": [
        {
          "name": "stdout",
          "output_type": "stream",
          "text": [
            "Prueba superada 😎\n"
          ]
        }
      ],
      "source": [
        "def ejercicio01(muns: [(int, str, int, int, str, bool)], nomdepto: str) -> int:\n",
        "  co=0\n",
        "  for c,n,pu,pr,d,s in muns:\n",
        "    if (nomdepto==d):\n",
        "      co=co+1\n",
        "  return co\n",
        "\n",
        "# ----------------------------------------------------------------------------\n",
        "# Pruebas\n",
        "assert ejercicio01(municipios, 'Amazonas') == 11\n",
        "assert ejercicio01(municipios, 'Boyacá') == 123\n",
        "print('Prueba superada 😎')"
      ]
    },
    {
      "cell_type": "markdown",
      "metadata": {
        "id": "5WNqTarK-J6r"
      },
      "source": [
        "## Ejercicio 02\n",
        "\n",
        "Dada una lista con los municipio de Colombia, retorne una lista con los nombres de los municipios que no tienen población urbana."
      ]
    },
    {
      "cell_type": "code",
      "execution_count": 28,
      "metadata": {
        "colab": {
          "base_uri": "https://localhost:8080/"
        },
        "id": "SGmVOQATxz82",
        "outputId": "c137d303-be67-4bbe-9e8b-056e858751f3"
      },
      "outputs": [
        {
          "name": "stdout",
          "output_type": "stream",
          "text": [
            "Prueba superada 👍\n"
          ]
        }
      ],
      "source": [
        "def ejercicio02(municipios: [(int, str, int, int, str, bool)]) -> [str]:\n",
        "    resultado = []\n",
        "    for a,s,d,f,g,h,in municipios:\n",
        "      if (d==0):\n",
        "        resultado.append(s)\n",
        "    return resultado\n",
        "\n",
        "# Prueba del ejercicio 02\n",
        "noms = ejercicio02(municipios)\n",
        "noms.sort()\n",
        "assert noms == ['Barranco Minas', 'Cacahual', 'El Encanto', 'La Chorrera', 'La Guadalupe', 'La Pedrera', 'La Victoria', 'Mapiripana', 'Mirití-Paraná', 'Morichal Nuevo', 'Pacoa', 'Pana Pana', 'Papunaua', 'Puerto Alegría', 'Puerto Arica', 'Puerto Colombia', 'Puerto Santander', 'San Felipe', 'Tarapacá', 'Yavaraté']\n",
        "print(\"Prueba superada 👍\")"
      ]
    },
    {
      "cell_type": "markdown",
      "metadata": {
        "id": "Iop_-nwpAKHP"
      },
      "source": [
        "## Ejercicio 03\n",
        "\n",
        "Escriba una función en Python que reciba la lista con la información de todos los municipios de Colombia, y el nombre de un departamento, y que retorne la suma de la población urbana de todos los municipios de ese departamento, así como la cantidad de municipios que pertenecen a ese departamento también."
      ]
    },
    {
      "cell_type": "code",
      "execution_count": 29,
      "metadata": {
        "colab": {
          "base_uri": "https://localhost:8080/"
        },
        "id": "n4lYS5hR_eAd",
        "outputId": "f77a4b2f-d7a4-4ea0-ef20-94f5f21453f5"
      },
      "outputs": [
        {
          "name": "stdout",
          "output_type": "stream",
          "text": [
            "Prueba superada 👍\n"
          ]
        }
      ],
      "source": [
        "def ejercicio03(municipios: [(int, str, int, int, str, bool)], dpto: str) -> (int, int):\n",
        "    suma = 0\n",
        "    cont = 0\n",
        "    for a,s,d,f,g,h in municipios:\n",
        "       if (g==dpto):\n",
        "         cont+=1\n",
        "         suma+=(d)\n",
        "\n",
        "    return (suma, cont)\n",
        "\n",
        "# Prueba de la función 03\n",
        "assert ejercicio03(municipios, \"La Guajira\") == (552_638, 15)\n",
        "assert ejercicio03(municipios, \"Huila\") == (703_936, 37)\n",
        "assert ejercicio03(municipios, \"Atlántico\") == (2_408_093, 23)\n",
        "assert ejercicio03(municipios, \"Antioquia\") == (5_181_668, 125)\n",
        "print(\"Prueba superada 👍\")"
      ]
    },
    {
      "cell_type": "markdown",
      "metadata": {
        "id": "qw57ZixBCtmg"
      },
      "source": [
        "## Ejercicio 04\n",
        "\n",
        "Escriba una función que reciba la lista con la información de todos los municipios del país y el código de un municipio y que retorne el nombre y el departamento del municipio que tiene ese código. Si no existe ese código, deberá retornar el mensaje \"no existe\"."
      ]
    },
    {
      "cell_type": "code",
      "execution_count": 30,
      "metadata": {
        "colab": {
          "base_uri": "https://localhost:8080/"
        },
        "id": "KQlwWG7LBgQs",
        "outputId": "28702ba1-ca7a-4f6e-8b74-530048f1e102"
      },
      "outputs": [
        {
          "name": "stdout",
          "output_type": "stream",
          "text": [
            "Prueba superada 👍\n"
          ]
        }
      ],
      "source": [
        "def ejercicio04(municipios: [(int, str, int, int, str, bool)], codigo: int) -> (str, str):\n",
        "    informacion=[]\n",
        "    for ca,n ,pu ,pr ,d ,s  in municipios:\n",
        "        if (ca==codigo):\n",
        "            informacion.append(n)\n",
        "            informacion.append(d)\n",
        "            my=tuple(informacion)\n",
        "        if(codigo>=1222):\n",
        "          my='no existe'\n",
        "    return my\n",
        "\n",
        "# Prueba de la función ejercicio 04\n",
        "assert (ejercicio04(municipios, 438)) == ('Caloto', 'Cauca')\n",
        "assert (ejercicio04(municipios, 7)) == ('Soledad', 'Atlántico')\n",
        "assert (ejercicio04(municipios, 1024)) == ('Alejandría', 'Antioquia')\n",
        "assert (ejercicio04(municipios, 819)) == ('Barichara', 'Santander')\n",
        "assert (ejercicio04(municipios, 1819)) == 'no existe'\n",
        "print(\"Prueba superada 👍\")"
      ]
    },
    {
      "cell_type": "markdown",
      "metadata": {
        "id": "k-SLqWpdF1ie"
      },
      "source": [
        "## Ejercicio 05\n",
        "\n",
        "Escriba una función en Python que reciba una lista con la información de todos los municipios de Colombia y que halle el porcentaje de municipios de la lista que son capitales y cuya población urbana supera el millón de habitantes."
      ]
    },
    {
      "cell_type": "code",
      "execution_count": 31,
      "metadata": {
        "colab": {
          "base_uri": "https://localhost:8080/"
        },
        "id": "5__V2S7ZE_vl",
        "outputId": "4770fcb9-48b2-4908-ce8d-232172b34209"
      },
      "outputs": [
        {
          "name": "stdout",
          "output_type": "stream",
          "text": [
            "Prueba superada 👍\n"
          ]
        }
      ],
      "source": [
        "import math\n",
        "\n",
        "def ejercicio05(municipios: [(int, str, int, int, str, bool)]) -> float:\n",
        "    lista=[]\n",
        "    t=0\n",
        "    for ca,n ,pu ,pr ,d ,s  in municipios:\n",
        "        if(s==True and pu>1000000):\n",
        "            lista.append(n)\n",
        "    t=len(lista)*100/len(municipios)\n",
        "    return t\n",
        "\n",
        "# Prueba de la función del ejercicio 5\n",
        "assert math.isclose(ejercicio05(municipios), 0.3565, rel_tol=1e-4)\n",
        "print(\"Prueba superada 👍\")"
      ]
    },
    {
      "cell_type": "markdown",
      "metadata": {
        "id": "3PWcaddGM61l"
      },
      "source": [
        "## Ejercicio 06\n",
        "\n",
        "Escriba una función que reciba la lista con la información de todos los municipios de Colombia y el nombre de un departamento, y que retorne el nombre del municipio de ese departamento que tiene la población urbana más pequeña."
      ]
    },
    {
      "cell_type": "code",
      "execution_count": 32,
      "metadata": {
        "colab": {
          "base_uri": "https://localhost:8080/"
        },
        "id": "8qAQ2SVlL-Rl",
        "outputId": "394184d9-f850-4ac9-bc63-b8b044a543ae"
      },
      "outputs": [
        {
          "name": "stdout",
          "output_type": "stream",
          "text": [
            "Prueba superada 👍\n"
          ]
        }
      ],
      "source": [
        "def ejercicio06(municipios: [(int, str, int, int, str, bool)], dpto: str) -> str:\n",
        "    max=2**32\n",
        "    nombre=\"\"\n",
        "    for i,m,u,r,d,x in municipios:\n",
        "        if(d==dpto):\n",
        "            if(max>u):\n",
        "                max=u\n",
        "                nombre=m\n",
        "    return(nombre)\n",
        "    pass\n",
        "\n",
        "# Prueba de la función del ejercicio 06\n",
        "assert (ejercicio06(municipios, 'Santander'))  == 'Jordán'\n",
        "assert (ejercicio06(municipios, 'Boyacá')) == 'Chíquiza'\n",
        "assert (ejercicio06(municipios, 'Magdalena')) == 'San Zenón'\n",
        "assert (ejercicio06(municipios, 'Cundinamarca')) == 'Fúquene'\n",
        "print(\"Prueba superada 👍\")"
      ]
    },
    {
      "cell_type": "markdown",
      "metadata": {
        "id": "-7qiTQ1NPclk"
      },
      "source": [
        "## Ejercicio 07\n",
        "\n",
        "Escriba una función en Python que reciba una lista con la información de todos los municipios de Colombia y dos códigos, y que retorne la suma de la población rural de aquellos municipios cuyo código sea mayor o igual que el primer código y menor o igual que el segundo código."
      ]
    },
    {
      "cell_type": "code",
      "execution_count": 33,
      "metadata": {
        "colab": {
          "base_uri": "https://localhost:8080/"
        },
        "id": "lr2UwOmvOBiT",
        "outputId": "3c778cff-4e16-424e-bfab-1faf0136b7e4"
      },
      "outputs": [
        {
          "name": "stdout",
          "output_type": "stream",
          "text": [
            "Prueba superada 👍\n"
          ]
        }
      ],
      "source": [
        "def ejercicio07(municipios: [(int, str, int, int, str, bool)], cod1: int, cod2: int) -> int:\n",
        "    suma = 0\n",
        "    lista=[]\n",
        "    for cod,mun,pur,pru,dep,cap in municipios:\n",
        "        if(cod>=cod1 and cod<=cod2):\n",
        "            lista.append(pru)\n",
        "            total=sum(lista)\n",
        "    return total\n",
        "    return suma\n",
        "# Prueba de la función del ejercicio 07\n",
        "assert (ejercicio07(municipios, 850, 960)) == 416_362\n",
        "assert (ejercicio07(municipios, 1, 10)) == 193_550\n",
        "assert (ejercicio07(municipios, 300, 400)) == 1_217_094\n",
        "print(\"Prueba superada 👍\")"
      ]
    }
  ],
  "metadata": {
    "colab": {
      "collapsed_sections": [],
      "name": "Taller_07.ipynb",
      "provenance": []
    },
    "kernelspec": {
      "display_name": "Python 3",
      "name": "python3"
    },
    "language_info": {
      "codemirror_mode": {
        "name": "ipython",
        "version": 3
      },
      "file_extension": ".py",
      "mimetype": "text/x-python",
      "name": "python",
      "nbconvert_exporter": "python",
      "pygments_lexer": "ipython3",
      "version": "3.10.2"
    }
  },
  "nbformat": 4,
  "nbformat_minor": 0
}
